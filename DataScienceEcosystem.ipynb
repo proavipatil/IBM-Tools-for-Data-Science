{
 "cells": [
  {
   "cell_type": "markdown",
   "source": [
    "# Data Science Tools and Ecosystem"
   ],
   "metadata": {
    "collapsed": false
   },
   "id": "f33e5799c6a394b7"
  },
  {
   "cell_type": "markdown",
   "source": [
    "In this notebook, Data Science Tools and Ecosystem are summarized.\n"
   ],
   "metadata": {
    "collapsed": false
   },
   "id": "97893928ca3bc6f7"
  },
  {
   "cell_type": "markdown",
   "source": [
    "Some of the popular languages that Data Scientists use are:\n",
    "1. Python\n",
    "2. R\n",
    "3. Julia\n",
    "4. Scala\n",
    "5. JavaScript\n",
    "6. SQL\n",
    "7. Java"
   ],
   "metadata": {
    "collapsed": false
   },
   "id": "15229aa43929e11f"
  },
  {
   "cell_type": "markdown",
   "source": [
    "Some of the commonly used libraries used by Data Scientists include:\n",
    "1. Pandas\n",
    "2. NumPy\n",
    "3. SciPy\n",
    "4. Matplotlib\n",
    "5. Keras\n",
    "6. Scikit\n",
    "7. TensorFlow\n",
    "8. Pytorch\n",
    "9. Spark\n",
    "10. Scikit-learn\n"
   ],
   "metadata": {
    "collapsed": false
   },
   "id": "4b48434eb6f311fe"
  },
  {
   "cell_type": "markdown",
   "source": [
    "| Data Science Tools |\n",
    "|--------------------|\n",
    "| MySQL              |\n",
    "| RStudio            |\n",
    "| Hadoop             |\n",
    "| Jupyter            |\n",
    "| GitHub             |\n",
    "| SAS               |"
   ],
   "metadata": {
    "collapsed": false
   },
   "id": "b23523ec7430ebeb"
  },
  {
   "cell_type": "markdown",
   "source": [
    "### Below are a few examples of evaluating arithmetic expressions in Python\n"
   ],
   "metadata": {
    "collapsed": false
   },
   "id": "69e0fb35ba59092c"
  },
  {
   "cell_type": "code",
   "outputs": [
    {
     "data": {
      "text/plain": "17"
     },
     "execution_count": 14,
     "metadata": {},
     "output_type": "execute_result"
    }
   ],
   "source": [
    "# This a simple arithmetic expression to multiply then add integers\n",
    "(3*4)+5"
   ],
   "metadata": {
    "collapsed": false,
    "ExecuteTime": {
     "end_time": "2024-02-13T13:26:12.495856900Z",
     "start_time": "2024-02-13T13:26:12.489968Z"
    }
   },
   "id": "64df90498f93183c",
   "execution_count": 14
  },
  {
   "cell_type": "code",
   "outputs": [
    {
     "data": {
      "text/plain": "3.3333333333333335"
     },
     "execution_count": 15,
     "metadata": {},
     "output_type": "execute_result"
    }
   ],
   "source": [
    "# This will convert 200 minutes to hours by diving by 60\n",
    "(200/60)"
   ],
   "metadata": {
    "collapsed": false,
    "ExecuteTime": {
     "end_time": "2024-02-13T13:26:12.513914600Z",
     "start_time": "2024-02-13T13:26:12.498319800Z"
    }
   },
   "id": "b7a37cbfc7105679",
   "execution_count": 15
  },
  {
   "cell_type": "markdown",
   "source": [
    "__Objectives__\n",
    "\n",
    "- List popular languages for Data Science\n",
    "- Introduce key libraries and frameworks.\n",
    "- List common open source tools for Data Science\n",
    "- Evaluate arithmetic expressions\n",
    "- Demonstrate how to work with big data tools.\n",
    "- Code cell to multiply and add numbers\n",
    "- Code cell to convert minutes to hours\n",
    "- Explore techniques for data visualization."
   ],
   "metadata": {
    "collapsed": false
   },
   "id": "c9834ab44cf77a5f"
  },
  {
   "cell_type": "markdown",
   "source": [
    "## Author\n",
    "Avishkar Patil"
   ],
   "metadata": {
    "collapsed": false
   },
   "id": "a87031610abcb283"
  }
 ],
 "metadata": {
  "kernelspec": {
   "display_name": "Python 3",
   "language": "python",
   "name": "python3"
  },
  "language_info": {
   "codemirror_mode": {
    "name": "ipython",
    "version": 2
   },
   "file_extension": ".py",
   "mimetype": "text/x-python",
   "name": "python",
   "nbconvert_exporter": "python",
   "pygments_lexer": "ipython2",
   "version": "2.7.6"
  }
 },
 "nbformat": 4,
 "nbformat_minor": 5
}
